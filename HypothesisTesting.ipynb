{
 "cells": [
  {
   "cell_type": "code",
   "execution_count": 16,
   "metadata": {},
   "outputs": [],
   "source": [
    "import numpy as np\n",
    "import pandas as pd\n",
    "import matplotlib.pyplot as plt\n",
    "from scipy import stats"
   ]
  },
  {
   "cell_type": "code",
   "execution_count": 4,
   "metadata": {},
   "outputs": [],
   "source": [
    "students= pd.read_csv('students.csv')"
   ]
  },
  {
   "cell_type": "markdown",
   "metadata": {},
   "source": [
    "Our job is to run a hypothesis testing over weight column of the data set. The average weight of european adult is 70.8 kg. The standard deviation is given 8.63. This can be done using Z-Test"
   ]
  },
  {
   "cell_type": "code",
   "execution_count": 6,
   "metadata": {},
   "outputs": [],
   "source": [
    "weights= students.weight"
   ]
  },
  {
   "cell_type": "markdown",
   "metadata": {},
   "source": [
    "Take a random sample of size 30 and calculate the sample mean."
   ]
  },
  {
   "cell_type": "code",
   "execution_count": 14,
   "metadata": {},
   "outputs": [
    {
     "data": {
      "text/plain": [
       "73.14"
      ]
     },
     "execution_count": 14,
     "metadata": {},
     "output_type": "execute_result"
    }
   ],
   "source": [
    "sample= np.random.choice(weights, 30)\n",
    "x_bar= np.mean(sample)\n",
    "x_bar"
   ]
  },
  {
   "cell_type": "markdown",
   "metadata": {},
   "source": [
    "$\\LARGE{Hypothesis~Testing}$ <br>\n",
    "$\\Large{Critical~Value ~Approach}$"
   ]
  },
  {
   "cell_type": "markdown",
   "metadata": {},
   "source": [
    "$H_{0}$: The average weight of the students is equal to the average weight of European adults ie $\\mu= 70.8$<br>\n",
    "$H_1:\\mu\\neq70.8$ <br>\n",
    "Significance level $\\alpha= 0.05$<br>\n",
    "Test statistic $z= \\frac{\\bar{x}-\\mu}{\\sigma/\\sqrt{n}}$"
   ]
  },
  {
   "cell_type": "code",
   "execution_count": 15,
   "metadata": {},
   "outputs": [
    {
     "data": {
      "text/plain": [
       "1.4851341651936159"
      ]
     },
     "execution_count": 15,
     "metadata": {},
     "output_type": "execute_result"
    }
   ],
   "source": [
    "#Calculate test statistic\n",
    "z= (x_bar- 70.8)/ (8.63/np.sqrt(30))\n",
    "z"
   ]
  },
  {
   "cell_type": "markdown",
   "metadata": {},
   "source": [
    "The test will be a two tailed test.<br>\n",
    "$H_{A_1}:\\mu\\neq 70.8$<br>\n",
    "$H_{A_2}:\\mu< 70.8$<br>\n",
    "$H_{A_3}:\\mu> 70.8$<br>\n",
    "Calculate the critical values accordingly for all the different hypothesis."
   ]
  },
  {
   "cell_type": "code",
   "execution_count": 21,
   "metadata": {},
   "outputs": [],
   "source": [
    "alpha= 0.05"
   ]
  },
  {
   "cell_type": "code",
   "execution_count": 23,
   "metadata": {},
   "outputs": [
    {
     "data": {
      "text/plain": [
       "(1.959963984540054, -1.6448536269514729, 1.6448536269514722)"
      ]
     },
     "execution_count": 23,
     "metadata": {},
     "output_type": "execute_result"
    }
   ],
   "source": [
    "z_Ha1= stats.norm.ppf(1- alpha/2)\n",
    "z_Ha2= stats.norm.ppf(alpha)\n",
    "z_Ha3= stats.norm.ppf(1- alpha)\n",
    "z_Ha1, z_Ha2, z_Ha3"
   ]
  },
  {
   "cell_type": "markdown",
   "metadata": {},
   "source": [
    "Critical value for Ha1= $\\pm 1.959963984540054$ <br>\n",
    "Ha2= -1.6448536269514729<br>\n",
    "ha3= 1.6448536269514729 <br>\n",
    "For hypothesis 1: -1.95<1.48< 1.95<br>\n",
    "For hypothesis 2: -1.64<1.48 <br>\n",
    "For hypothesis 3: 1.48< 1.64 <br>\n",
    "Therefore, from all the above results we can conlude that the two tail test accepts the null hypothesis with significance level 0.05. "
   ]
  },
  {
   "cell_type": "markdown",
   "metadata": {},
   "source": [
    "$\\Large{P\\ Value\\ Approach}$"
   ]
  },
  {
   "cell_type": "code",
   "execution_count": 43,
   "metadata": {},
   "outputs": [],
   "source": [
    "# Perform the above steps upto hypothesis fromation. Calculate p values for all test statistic of the hypothesis.\n",
    "p_Ha1= (1- stats.norm.cdf(z/2))*2 # Two tail test\n",
    "p_Ha2= stats.norm.cdf(-z) # Left tail test\n",
    "p_Ha3= 1- stats.norm.cdf(z) # Right tail test"
   ]
  },
  {
   "cell_type": "code",
   "execution_count": 44,
   "metadata": {},
   "outputs": [
    {
     "data": {
      "text/plain": [
       "(0.4577438238894378, 0.06875414366085851, 0.06875414366085852)"
      ]
     },
     "execution_count": 44,
     "metadata": {},
     "output_type": "execute_result"
    }
   ],
   "source": [
    "p_Ha1, p_Ha2, p_Ha3"
   ]
  },
  {
   "cell_type": "markdown",
   "metadata": {},
   "source": [
    "All the p values are greater than $\\alpha$ we cannot reject null hypothesis."
   ]
  }
 ],
 "metadata": {
  "interpreter": {
   "hash": "63fd5069d213b44bf678585dea6b12cceca9941eaf7f819626cde1f2670de90d"
  },
  "kernelspec": {
   "display_name": "Python 3.9.6 64-bit",
   "language": "python",
   "name": "python3"
  },
  "language_info": {
   "codemirror_mode": {
    "name": "ipython",
    "version": 3
   },
   "file_extension": ".py",
   "mimetype": "text/x-python",
   "name": "python",
   "nbconvert_exporter": "python",
   "pygments_lexer": "ipython3",
   "version": "3.9.6"
  },
  "orig_nbformat": 4
 },
 "nbformat": 4,
 "nbformat_minor": 2
}
